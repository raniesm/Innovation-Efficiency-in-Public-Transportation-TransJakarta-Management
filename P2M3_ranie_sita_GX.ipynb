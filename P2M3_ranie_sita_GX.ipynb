{
 "cells": [
  {
   "cell_type": "markdown",
   "metadata": {},
   "source": [
    "# - PERKENALAN"
   ]
  },
  {
   "cell_type": "markdown",
   "metadata": {},
   "source": [
    "## =================================================\n",
    "## Milestone 3\n",
    "\n",
    "## Nama  : Ranie Sita\n",
    "## Batch : FTDS-030-RMT\n",
    "\n",
    "### Program ini dibuat untuk melakukan automatisasi transform dan load data dari PostgreSQL ke ElasticSearch. Adapun dataset yang dipakai adalah dataset mengenai transaksi yang dilakukan pada fasilitas kendaraan umum TransJakarta pada April 2023.\n",
    "## =================================================\n"
   ]
  },
  {
   "cell_type": "markdown",
   "metadata": {},
   "source": [
    "### 1. Install Great Expectation Package"
   ]
  },
  {
   "cell_type": "code",
   "execution_count": 1,
   "metadata": {},
   "outputs": [
    {
     "name": "stdout",
     "output_type": "stream",
     "text": [
      "Requirement already satisfied: great-expectations in /Applications/miniconda3/lib/python3.9/site-packages (0.18.14)\n",
      "Requirement already satisfied: altair<5.0.0,>=4.2.1 in /Applications/miniconda3/lib/python3.9/site-packages (from great-expectations) (4.2.2)\n",
      "Requirement already satisfied: Click>=7.1.2 in /Applications/miniconda3/lib/python3.9/site-packages (from great-expectations) (8.1.3)\n",
      "Requirement already satisfied: colorama>=0.4.3 in /Applications/miniconda3/lib/python3.9/site-packages (from great-expectations) (0.4.5)\n",
      "Requirement already satisfied: cryptography>=3.2 in /Applications/miniconda3/lib/python3.9/site-packages (from great-expectations) (36.0.2)\n",
      "Requirement already satisfied: Ipython>=7.16.3 in /Applications/miniconda3/lib/python3.9/site-packages (from great-expectations) (8.18.1)\n",
      "Requirement already satisfied: ipywidgets>=7.5.1 in /Applications/miniconda3/lib/python3.9/site-packages (from great-expectations) (8.1.2)\n",
      "Requirement already satisfied: jinja2>=2.10 in /Applications/miniconda3/lib/python3.9/site-packages (from great-expectations) (3.1.4)\n",
      "Requirement already satisfied: jsonpatch>=1.22 in /Applications/miniconda3/lib/python3.9/site-packages (from great-expectations) (1.32)\n",
      "Requirement already satisfied: jsonschema>=2.5.1 in /Applications/miniconda3/lib/python3.9/site-packages (from great-expectations) (4.22.0)\n",
      "Requirement already satisfied: makefun<2,>=1.7.0 in /Applications/miniconda3/lib/python3.9/site-packages (from great-expectations) (1.15.2)\n",
      "Requirement already satisfied: marshmallow<4.0.0,>=3.7.1 in /Applications/miniconda3/lib/python3.9/site-packages (from great-expectations) (3.17.0)\n",
      "Requirement already satisfied: mistune>=0.8.4 in /Applications/miniconda3/lib/python3.9/site-packages (from great-expectations) (3.0.2)\n",
      "Requirement already satisfied: nbformat>=5.0 in /Applications/miniconda3/lib/python3.9/site-packages (from great-expectations) (5.9.2)\n",
      "Requirement already satisfied: notebook>=6.4.10 in /Applications/miniconda3/lib/python3.9/site-packages (from great-expectations) (7.2.0)\n",
      "Requirement already satisfied: packaging in /Applications/miniconda3/lib/python3.9/site-packages (from great-expectations) (24.0)\n",
      "Requirement already satisfied: pydantic>=1.9.2 in /Applications/miniconda3/lib/python3.9/site-packages (from great-expectations) (1.10.12)\n",
      "Requirement already satisfied: pyparsing>=2.4 in /Applications/miniconda3/lib/python3.9/site-packages (from great-expectations) (3.0.9)\n",
      "Requirement already satisfied: python-dateutil>=2.8.1 in /Applications/miniconda3/lib/python3.9/site-packages (from great-expectations) (2.8.2)\n",
      "Requirement already satisfied: pytz>=2021.3 in /Applications/miniconda3/lib/python3.9/site-packages (from great-expectations) (2022.1)\n",
      "Requirement already satisfied: requests>=2.20 in /Applications/miniconda3/lib/python3.9/site-packages (from great-expectations) (2.32.2)\n",
      "Requirement already satisfied: ruamel.yaml<0.17.18,>=0.16 in /Applications/miniconda3/lib/python3.9/site-packages (from great-expectations) (0.17.17)\n",
      "Requirement already satisfied: scipy>=1.6.0 in /Applications/miniconda3/lib/python3.9/site-packages (from great-expectations) (1.12.0)\n",
      "Requirement already satisfied: tqdm>=4.59.0 in /Applications/miniconda3/lib/python3.9/site-packages (from great-expectations) (4.65.0)\n",
      "Requirement already satisfied: typing-extensions>=3.10.0.0 in /Applications/miniconda3/lib/python3.9/site-packages (from great-expectations) (4.11.0)\n",
      "Requirement already satisfied: tzlocal>=1.2 in /Applications/miniconda3/lib/python3.9/site-packages (from great-expectations) (5.2)\n",
      "Requirement already satisfied: urllib3>=1.26 in /Applications/miniconda3/lib/python3.9/site-packages (from great-expectations) (1.26.11)\n",
      "Requirement already satisfied: numpy<2.0.0,>=1.21.6 in /Applications/miniconda3/lib/python3.9/site-packages (from great-expectations) (1.26.4)\n",
      "Requirement already satisfied: pandas>=1.1.3 in /Applications/miniconda3/lib/python3.9/site-packages (from great-expectations) (2.2.2)\n",
      "Requirement already satisfied: entrypoints in /Applications/miniconda3/lib/python3.9/site-packages (from altair<5.0.0,>=4.2.1->great-expectations) (0.4)\n",
      "Requirement already satisfied: toolz in /Applications/miniconda3/lib/python3.9/site-packages (from altair<5.0.0,>=4.2.1->great-expectations) (0.12.1)\n",
      "Requirement already satisfied: cffi>=1.12 in /Applications/miniconda3/lib/python3.9/site-packages (from cryptography>=3.2->great-expectations) (1.15.1)\n",
      "Requirement already satisfied: decorator in /Applications/miniconda3/lib/python3.9/site-packages (from Ipython>=7.16.3->great-expectations) (5.1.1)\n",
      "Requirement already satisfied: jedi>=0.16 in /Applications/miniconda3/lib/python3.9/site-packages (from Ipython>=7.16.3->great-expectations) (0.19.1)\n",
      "Requirement already satisfied: matplotlib-inline in /Applications/miniconda3/lib/python3.9/site-packages (from Ipython>=7.16.3->great-expectations) (0.1.6)\n",
      "Requirement already satisfied: prompt-toolkit<3.1.0,>=3.0.41 in /Applications/miniconda3/lib/python3.9/site-packages (from Ipython>=7.16.3->great-expectations) (3.0.42)\n",
      "Requirement already satisfied: pygments>=2.4.0 in /Applications/miniconda3/lib/python3.9/site-packages (from Ipython>=7.16.3->great-expectations) (2.13.0)\n",
      "Requirement already satisfied: stack-data in /Applications/miniconda3/lib/python3.9/site-packages (from Ipython>=7.16.3->great-expectations) (0.6.2)\n",
      "Requirement already satisfied: traitlets>=5 in /Applications/miniconda3/lib/python3.9/site-packages (from Ipython>=7.16.3->great-expectations) (5.7.1)\n",
      "Requirement already satisfied: exceptiongroup in /Applications/miniconda3/lib/python3.9/site-packages (from Ipython>=7.16.3->great-expectations) (1.0.0rc8)\n",
      "Requirement already satisfied: pexpect>4.3 in /Applications/miniconda3/lib/python3.9/site-packages (from Ipython>=7.16.3->great-expectations) (4.9.0)\n",
      "Requirement already satisfied: comm>=0.1.3 in /Applications/miniconda3/lib/python3.9/site-packages (from ipywidgets>=7.5.1->great-expectations) (0.2.2)\n",
      "Requirement already satisfied: widgetsnbextension~=4.0.10 in /Applications/miniconda3/lib/python3.9/site-packages (from ipywidgets>=7.5.1->great-expectations) (4.0.10)\n",
      "Requirement already satisfied: jupyterlab-widgets~=3.0.10 in /Applications/miniconda3/lib/python3.9/site-packages (from ipywidgets>=7.5.1->great-expectations) (3.0.10)\n",
      "Requirement already satisfied: MarkupSafe>=2.0 in /Applications/miniconda3/lib/python3.9/site-packages (from jinja2>=2.10->great-expectations) (2.1.1)\n",
      "Requirement already satisfied: jsonpointer>=1.9 in /Applications/miniconda3/lib/python3.9/site-packages (from jsonpatch>=1.22->great-expectations) (2.1)\n",
      "Requirement already satisfied: attrs>=22.2.0 in /Applications/miniconda3/lib/python3.9/site-packages (from jsonschema>=2.5.1->great-expectations) (23.2.0)\n",
      "Requirement already satisfied: jsonschema-specifications>=2023.03.6 in /Applications/miniconda3/lib/python3.9/site-packages (from jsonschema>=2.5.1->great-expectations) (2023.7.1)\n",
      "Requirement already satisfied: referencing>=0.28.4 in /Applications/miniconda3/lib/python3.9/site-packages (from jsonschema>=2.5.1->great-expectations) (0.30.2)\n",
      "Requirement already satisfied: rpds-py>=0.7.1 in /Applications/miniconda3/lib/python3.9/site-packages (from jsonschema>=2.5.1->great-expectations) (0.10.6)\n",
      "Requirement already satisfied: fastjsonschema in /Applications/miniconda3/lib/python3.9/site-packages (from nbformat>=5.0->great-expectations) (2.16.2)\n",
      "Requirement already satisfied: jupyter-core in /Applications/miniconda3/lib/python3.9/site-packages (from nbformat>=5.0->great-expectations) (5.5.0)\n",
      "Requirement already satisfied: jupyter-server<3,>=2.4.0 in /Applications/miniconda3/lib/python3.9/site-packages (from notebook>=6.4.10->great-expectations) (2.14.0)\n",
      "Requirement already satisfied: jupyterlab-server<3,>=2.27.1 in /Applications/miniconda3/lib/python3.9/site-packages (from notebook>=6.4.10->great-expectations) (2.27.2)\n",
      "Requirement already satisfied: jupyterlab<4.3,>=4.2.0 in /Applications/miniconda3/lib/python3.9/site-packages (from notebook>=6.4.10->great-expectations) (4.2.0)\n",
      "Requirement already satisfied: notebook-shim<0.3,>=0.2 in /Applications/miniconda3/lib/python3.9/site-packages (from notebook>=6.4.10->great-expectations) (0.2.4)\n",
      "Requirement already satisfied: tornado>=6.2.0 in /Applications/miniconda3/lib/python3.9/site-packages (from notebook>=6.4.10->great-expectations) (6.4)\n",
      "Requirement already satisfied: tzdata>=2022.7 in /Applications/miniconda3/lib/python3.9/site-packages (from pandas>=1.1.3->great-expectations) (2024.1)\n",
      "Requirement already satisfied: six>=1.5 in /Applications/miniconda3/lib/python3.9/site-packages (from python-dateutil>=2.8.1->great-expectations) (1.16.0)\n",
      "Requirement already satisfied: charset-normalizer<4,>=2 in /Applications/miniconda3/lib/python3.9/site-packages (from requests>=2.20->great-expectations) (2.0.12)\n",
      "Requirement already satisfied: idna<4,>=2.5 in /Applications/miniconda3/lib/python3.9/site-packages (from requests>=2.20->great-expectations) (3.3)\n",
      "Requirement already satisfied: certifi>=2017.4.17 in /Applications/miniconda3/lib/python3.9/site-packages (from requests>=2.20->great-expectations) (2022.6.15)\n",
      "Requirement already satisfied: ruamel.yaml.clib>=0.1.2 in /Applications/miniconda3/lib/python3.9/site-packages (from ruamel.yaml<0.17.18,>=0.16->great-expectations) (0.2.6)\n",
      "Requirement already satisfied: pycparser in /Applications/miniconda3/lib/python3.9/site-packages (from cffi>=1.12->cryptography>=3.2->great-expectations) (2.21)\n",
      "Requirement already satisfied: parso<0.9.0,>=0.8.3 in /Applications/miniconda3/lib/python3.9/site-packages (from jedi>=0.16->Ipython>=7.16.3->great-expectations) (0.8.3)\n",
      "Requirement already satisfied: anyio>=3.1.0 in /Applications/miniconda3/lib/python3.9/site-packages (from jupyter-server<3,>=2.4.0->notebook>=6.4.10->great-expectations) (3.6.1)\n",
      "Requirement already satisfied: argon2-cffi>=21.1 in /Applications/miniconda3/lib/python3.9/site-packages (from jupyter-server<3,>=2.4.0->notebook>=6.4.10->great-expectations) (23.1.0)\n",
      "Requirement already satisfied: jupyter-client>=7.4.4 in /Applications/miniconda3/lib/python3.9/site-packages (from jupyter-server<3,>=2.4.0->notebook>=6.4.10->great-expectations) (8.6.1)\n",
      "Requirement already satisfied: jupyter-events>=0.9.0 in /Applications/miniconda3/lib/python3.9/site-packages (from jupyter-server<3,>=2.4.0->notebook>=6.4.10->great-expectations) (0.10.0)\n",
      "Requirement already satisfied: jupyter-server-terminals>=0.4.4 in /Applications/miniconda3/lib/python3.9/site-packages (from jupyter-server<3,>=2.4.0->notebook>=6.4.10->great-expectations) (0.5.3)\n",
      "Requirement already satisfied: nbconvert>=6.4.4 in /Applications/miniconda3/lib/python3.9/site-packages (from jupyter-server<3,>=2.4.0->notebook>=6.4.10->great-expectations) (7.16.4)\n",
      "Requirement already satisfied: overrides>=5.0 in /Applications/miniconda3/lib/python3.9/site-packages (from jupyter-server<3,>=2.4.0->notebook>=6.4.10->great-expectations) (7.7.0)\n",
      "Requirement already satisfied: prometheus-client>=0.9 in /Applications/miniconda3/lib/python3.9/site-packages (from jupyter-server<3,>=2.4.0->notebook>=6.4.10->great-expectations) (0.20.0)\n",
      "Requirement already satisfied: pyzmq>=24 in /Applications/miniconda3/lib/python3.9/site-packages (from jupyter-server<3,>=2.4.0->notebook>=6.4.10->great-expectations) (25.1.1)\n",
      "Requirement already satisfied: send2trash>=1.8.2 in /Applications/miniconda3/lib/python3.9/site-packages (from jupyter-server<3,>=2.4.0->notebook>=6.4.10->great-expectations) (1.8.3)\n",
      "Requirement already satisfied: terminado>=0.8.3 in /Applications/miniconda3/lib/python3.9/site-packages (from jupyter-server<3,>=2.4.0->notebook>=6.4.10->great-expectations) (0.18.1)\n",
      "Requirement already satisfied: websocket-client>=1.7 in /Applications/miniconda3/lib/python3.9/site-packages (from jupyter-server<3,>=2.4.0->notebook>=6.4.10->great-expectations) (1.8.0)\n",
      "Requirement already satisfied: platformdirs>=2.5 in /Applications/miniconda3/lib/python3.9/site-packages (from jupyter-core->nbformat>=5.0->great-expectations) (3.10.0)\n",
      "Requirement already satisfied: async-lru>=1.0.0 in /Applications/miniconda3/lib/python3.9/site-packages (from jupyterlab<4.3,>=4.2.0->notebook>=6.4.10->great-expectations) (2.0.4)\n",
      "Requirement already satisfied: httpx>=0.25.0 in /Applications/miniconda3/lib/python3.9/site-packages (from jupyterlab<4.3,>=4.2.0->notebook>=6.4.10->great-expectations) (0.27.0)\n",
      "Requirement already satisfied: importlib-metadata>=4.8.3 in /Applications/miniconda3/lib/python3.9/site-packages (from jupyterlab<4.3,>=4.2.0->notebook>=6.4.10->great-expectations) (6.11.0)\n",
      "Requirement already satisfied: ipykernel>=6.5.0 in /Applications/miniconda3/lib/python3.9/site-packages (from jupyterlab<4.3,>=4.2.0->notebook>=6.4.10->great-expectations) (6.29.3)\n",
      "Requirement already satisfied: jupyter-lsp>=2.0.0 in /Applications/miniconda3/lib/python3.9/site-packages (from jupyterlab<4.3,>=4.2.0->notebook>=6.4.10->great-expectations) (2.2.5)\n",
      "Requirement already satisfied: tomli>=1.2.2 in /Applications/miniconda3/lib/python3.9/site-packages (from jupyterlab<4.3,>=4.2.0->notebook>=6.4.10->great-expectations) (2.0.1)\n",
      "Requirement already satisfied: babel>=2.10 in /Applications/miniconda3/lib/python3.9/site-packages (from jupyterlab-server<3,>=2.27.1->notebook>=6.4.10->great-expectations) (2.10.3)\n",
      "Requirement already satisfied: json5>=0.9.0 in /Applications/miniconda3/lib/python3.9/site-packages (from jupyterlab-server<3,>=2.27.1->notebook>=6.4.10->great-expectations) (0.9.25)\n",
      "Requirement already satisfied: ptyprocess>=0.5 in /Applications/miniconda3/lib/python3.9/site-packages (from pexpect>4.3->Ipython>=7.16.3->great-expectations) (0.7.0)\n",
      "Requirement already satisfied: wcwidth in /Applications/miniconda3/lib/python3.9/site-packages (from prompt-toolkit<3.1.0,>=3.0.41->Ipython>=7.16.3->great-expectations) (0.2.13)\n",
      "Requirement already satisfied: executing>=1.2.0 in /Applications/miniconda3/lib/python3.9/site-packages (from stack-data->Ipython>=7.16.3->great-expectations) (2.0.1)\n",
      "Requirement already satisfied: asttokens>=2.1.0 in /Applications/miniconda3/lib/python3.9/site-packages (from stack-data->Ipython>=7.16.3->great-expectations) (2.4.1)\n",
      "Requirement already satisfied: pure-eval in /Applications/miniconda3/lib/python3.9/site-packages (from stack-data->Ipython>=7.16.3->great-expectations) (0.2.2)\n",
      "Requirement already satisfied: sniffio>=1.1 in /Applications/miniconda3/lib/python3.9/site-packages (from anyio>=3.1.0->jupyter-server<3,>=2.4.0->notebook>=6.4.10->great-expectations) (1.2.0)\n",
      "Requirement already satisfied: argon2-cffi-bindings in /Applications/miniconda3/lib/python3.9/site-packages (from argon2-cffi>=21.1->jupyter-server<3,>=2.4.0->notebook>=6.4.10->great-expectations) (21.2.0)\n",
      "Requirement already satisfied: httpcore==1.* in /Applications/miniconda3/lib/python3.9/site-packages (from httpx>=0.25.0->jupyterlab<4.3,>=4.2.0->notebook>=6.4.10->great-expectations) (1.0.5)\n",
      "Requirement already satisfied: h11<0.15,>=0.13 in /Applications/miniconda3/lib/python3.9/site-packages (from httpcore==1.*->httpx>=0.25.0->jupyterlab<4.3,>=4.2.0->notebook>=6.4.10->great-expectations) (0.14.0)\n",
      "Requirement already satisfied: zipp>=0.5 in /Applications/miniconda3/lib/python3.9/site-packages (from importlib-metadata>=4.8.3->jupyterlab<4.3,>=4.2.0->notebook>=6.4.10->great-expectations) (3.8.1)\n",
      "Requirement already satisfied: appnope in /Applications/miniconda3/lib/python3.9/site-packages (from ipykernel>=6.5.0->jupyterlab<4.3,>=4.2.0->notebook>=6.4.10->great-expectations) (0.1.4)\n",
      "Requirement already satisfied: debugpy>=1.6.5 in /Applications/miniconda3/lib/python3.9/site-packages (from ipykernel>=6.5.0->jupyterlab<4.3,>=4.2.0->notebook>=6.4.10->great-expectations) (1.6.7)\n",
      "Requirement already satisfied: nest-asyncio in /Applications/miniconda3/lib/python3.9/site-packages (from ipykernel>=6.5.0->jupyterlab<4.3,>=4.2.0->notebook>=6.4.10->great-expectations) (1.6.0)\n",
      "Requirement already satisfied: psutil in /Applications/miniconda3/lib/python3.9/site-packages (from ipykernel>=6.5.0->jupyterlab<4.3,>=4.2.0->notebook>=6.4.10->great-expectations) (5.9.1)\n",
      "Requirement already satisfied: python-json-logger>=2.0.4 in /Applications/miniconda3/lib/python3.9/site-packages (from jupyter-events>=0.9.0->jupyter-server<3,>=2.4.0->notebook>=6.4.10->great-expectations) (2.0.7)\n",
      "Requirement already satisfied: pyyaml>=5.3 in /Applications/miniconda3/lib/python3.9/site-packages (from jupyter-events>=0.9.0->jupyter-server<3,>=2.4.0->notebook>=6.4.10->great-expectations) (6.0)\n",
      "Requirement already satisfied: rfc3339-validator in /Applications/miniconda3/lib/python3.9/site-packages (from jupyter-events>=0.9.0->jupyter-server<3,>=2.4.0->notebook>=6.4.10->great-expectations) (0.1.4)\n",
      "Requirement already satisfied: rfc3986-validator>=0.1.1 in /Applications/miniconda3/lib/python3.9/site-packages (from jupyter-events>=0.9.0->jupyter-server<3,>=2.4.0->notebook>=6.4.10->great-expectations) (0.1.1)\n",
      "Requirement already satisfied: beautifulsoup4 in /Applications/miniconda3/lib/python3.9/site-packages (from nbconvert>=6.4.4->jupyter-server<3,>=2.4.0->notebook>=6.4.10->great-expectations) (4.12.3)\n",
      "Requirement already satisfied: bleach!=5.0.0 in /Applications/miniconda3/lib/python3.9/site-packages (from nbconvert>=6.4.4->jupyter-server<3,>=2.4.0->notebook>=6.4.10->great-expectations) (6.1.0)\n",
      "Requirement already satisfied: defusedxml in /Applications/miniconda3/lib/python3.9/site-packages (from nbconvert>=6.4.4->jupyter-server<3,>=2.4.0->notebook>=6.4.10->great-expectations) (0.7.1)\n",
      "Requirement already satisfied: jupyterlab-pygments in /Applications/miniconda3/lib/python3.9/site-packages (from nbconvert>=6.4.4->jupyter-server<3,>=2.4.0->notebook>=6.4.10->great-expectations) (0.3.0)\n",
      "Requirement already satisfied: nbclient>=0.5.0 in /Applications/miniconda3/lib/python3.9/site-packages (from nbconvert>=6.4.4->jupyter-server<3,>=2.4.0->notebook>=6.4.10->great-expectations) (0.10.0)\n",
      "Requirement already satisfied: pandocfilters>=1.4.1 in /Applications/miniconda3/lib/python3.9/site-packages (from nbconvert>=6.4.4->jupyter-server<3,>=2.4.0->notebook>=6.4.10->great-expectations) (1.5.1)\n",
      "Requirement already satisfied: tinycss2 in /Applications/miniconda3/lib/python3.9/site-packages (from nbconvert>=6.4.4->jupyter-server<3,>=2.4.0->notebook>=6.4.10->great-expectations) (1.3.0)\n",
      "Requirement already satisfied: webencodings in /Applications/miniconda3/lib/python3.9/site-packages (from bleach!=5.0.0->nbconvert>=6.4.4->jupyter-server<3,>=2.4.0->notebook>=6.4.10->great-expectations) (0.5.1)\n",
      "Requirement already satisfied: fqdn in /Applications/miniconda3/lib/python3.9/site-packages (from jsonschema[format-nongpl]>=4.18.0->jupyter-events>=0.9.0->jupyter-server<3,>=2.4.0->notebook>=6.4.10->great-expectations) (1.5.1)\n",
      "Requirement already satisfied: isoduration in /Applications/miniconda3/lib/python3.9/site-packages (from jsonschema[format-nongpl]>=4.18.0->jupyter-events>=0.9.0->jupyter-server<3,>=2.4.0->notebook>=6.4.10->great-expectations) (20.11.0)\n",
      "Requirement already satisfied: uri-template in /Applications/miniconda3/lib/python3.9/site-packages (from jsonschema[format-nongpl]>=4.18.0->jupyter-events>=0.9.0->jupyter-server<3,>=2.4.0->notebook>=6.4.10->great-expectations) (1.3.0)\n",
      "Requirement already satisfied: webcolors>=1.11 in /Applications/miniconda3/lib/python3.9/site-packages (from jsonschema[format-nongpl]>=4.18.0->jupyter-events>=0.9.0->jupyter-server<3,>=2.4.0->notebook>=6.4.10->great-expectations) (1.13)\n",
      "Requirement already satisfied: soupsieve>1.2 in /Applications/miniconda3/lib/python3.9/site-packages (from beautifulsoup4->nbconvert>=6.4.4->jupyter-server<3,>=2.4.0->notebook>=6.4.10->great-expectations) (2.5)\n",
      "Requirement already satisfied: arrow>=0.15.0 in /Applications/miniconda3/lib/python3.9/site-packages (from isoduration->jsonschema[format-nongpl]>=4.18.0->jupyter-events>=0.9.0->jupyter-server<3,>=2.4.0->notebook>=6.4.10->great-expectations) (1.3.0)\n",
      "Requirement already satisfied: types-python-dateutil>=2.8.10 in /Applications/miniconda3/lib/python3.9/site-packages (from arrow>=0.15.0->isoduration->jsonschema[format-nongpl]>=4.18.0->jupyter-events>=0.9.0->jupyter-server<3,>=2.4.0->notebook>=6.4.10->great-expectations) (2.9.0.20240316)\n"
     ]
    }
   ],
   "source": [
    "# Install the library\n",
    "\n",
    "!pip install great-expectations"
   ]
  },
  {
   "cell_type": "markdown",
   "metadata": {},
   "source": [
    "### 2.  Inisialisasi Proyek Great Expectations"
   ]
  },
  {
   "cell_type": "code",
   "execution_count": 2,
   "metadata": {},
   "outputs": [
    {
     "name": "stdout",
     "output_type": "stream",
     "text": [
      "\n",
      "  ___              _     ___                  _        _   _\n",
      " / __|_ _ ___ __ _| |_  | __|_ ___ __  ___ __| |_ __ _| |_(_)___ _ _  ___\n",
      "| (_ | '_/ -_) _` |  _| | _|\\ \\ / '_ \\/ -_) _|  _/ _` |  _| / _ \\ ' \\(_-<\n",
      " \\___|_| \\___\\__,_|\\__| |___/_\\_\\ .__/\\___\\__|\\__\\__,_|\\__|_\\___/_||_/__/\n",
      "                                |_|\n",
      "             ~ Always know what to expect from your data ~\n",
      "\n",
      "This looks like an existing project that appears complete! You are ready to roll.\n",
      "\n",
      "\n",
      "\n"
     ]
    }
   ],
   "source": [
    "import subprocess\n",
    "\n",
    "# Inisialisasi proyek Great Expectations\n",
    "process = subprocess.Popen(['great_expectations', 'init'], stdin=subprocess.PIPE, stdout=subprocess.PIPE, stderr=subprocess.PIPE, text=True)\n",
    "\n",
    "# Kirim input \"Y\" untuk melanjutkan inisialisasi\n",
    "stdout, stderr = process.communicate(input='Y\\n')\n",
    "\n",
    "print(stdout)\n",
    "print(stderr)"
   ]
  },
  {
   "cell_type": "code",
   "execution_count": 3,
   "metadata": {},
   "outputs": [
    {
     "name": "stdout",
     "output_type": "stream",
     "text": [
      "\u001b[36m\n",
      "  ___              _     ___                  _        _   _\n",
      " / __|_ _ ___ __ _| |_  | __|_ ___ __  ___ __| |_ __ _| |_(_)___ _ _  ___\n",
      "| (_ | '_/ -_) _` |  _| | _|\\ \\ / '_ \\/ -_) _|  _/ _` |  _| / _ \\ ' \\(_-<\n",
      " \\___|_| \\___\\__,_|\\__| |___/_\\_\\ .__/\\___\\__|\\__\\__,_|\\__|_\\___/_||_/__/\n",
      "                                |_|\n",
      "             ~ Always know what to expect from your data ~\n",
      "\u001b[0m\n",
      "This looks like an existing project that \u001b[32mappears complete!\u001b[0m You are \u001b[32mready to roll.\u001b[0m\n",
      "\n",
      "\u001b[0m"
     ]
    }
   ],
   "source": [
    "!great_expectations init\n"
   ]
  },
  {
   "cell_type": "markdown",
   "metadata": {},
   "source": [
    "### 3.  Expectation Suite"
   ]
  },
  {
   "cell_type": "code",
   "execution_count": 4,
   "metadata": {},
   "outputs": [
    {
     "name": "stdout",
     "output_type": "stream",
     "text": [
      "\n",
      "How would you like to create your Expectation Suite?\n",
      "    1. Manually, without interacting with a sample Batch of data (default)\n",
      "    2. Interactively, with a sample Batch of data\n",
      "    3. Automatically, using a Data Assistant\n",
      ": \n",
      "A batch of data is required to edit the suite - let's help you to specify it.\n",
      "\n",
      "\n",
      "Name the new Expectation Suite [default_data_asset_name.warning]: An expectation suite named `P2M3_ranie_sita_data_clean_suite` already exists.\n",
      "    - If you intend to edit the suite please use `great_expectations suite edit P2M3_ranie_sita_data_clean_suite`.\n",
      "\n",
      "\n"
     ]
    }
   ],
   "source": [
    "import subprocess\n",
    "\n",
    "# Membuat expectation suite baru\n",
    "process = subprocess.Popen(['great_expectations', 'suite', 'new'], stdin=subprocess.PIPE, stdout=subprocess.PIPE, stderr=subprocess.PIPE, text=True)\n",
    "\n",
    "# Kirim nama suite sebagai input ke proses\n",
    "stdout, stderr = process.communicate(input='2\\nP2M3_ranie_sita_data_clean_suite\\n')\n",
    "\n",
    "print(stdout)\n",
    "print(stderr)"
   ]
  },
  {
   "cell_type": "code",
   "execution_count": 5,
   "metadata": {},
   "outputs": [
    {
     "name": "stdout",
     "output_type": "stream",
     "text": [
      "As of V0.16, the preferred method for adding a Datasource is using the fluent method of configuration, and not using the CLI.\n",
      "You can read more about this here: https://greatexpectations.io/blog/the-fluent-way-to-connect-to-data-sources-in-gx\n",
      "If you would like to proceed anyway, press Y. [Y/n]: Error: invalid input\n",
      "As of V0.16, the preferred method for adding a Datasource is using the fluent method of configuration, and not using the CLI.\n",
      "You can read more about this here: https://greatexpectations.io/blog/the-fluent-way-to-connect-to-data-sources-in-gx\n",
      "If you would like to proceed anyway, press Y. [Y/n]: Error: invalid input\n",
      "As of V0.16, the preferred method for adding a Datasource is using the fluent method of configuration, and not using the CLI.\n",
      "You can read more about this here: https://greatexpectations.io/blog/the-fluent-way-to-connect-to-data-sources-in-gx\n",
      "If you would like to proceed anyway, press Y. [Y/n]: Error: invalid input\n",
      "As of V0.16, the preferred method for adding a Datasource is using the fluent method of configuration, and not using the CLI.\n",
      "You can read more about this here: https://greatexpectations.io/blog/the-fluent-way-to-connect-to-data-sources-in-gx\n",
      "If you would like to proceed anyway, press Y. [Y/n]: \n",
      "What data would you like Great Expectations to connect to?\n",
      "    1. Files on a filesystem (for processing with Pandas or Spark)\n",
      "    2. Relational database (SQL)\n",
      ": \n",
      "What data would you like Great Expectations to connect to?\n",
      "    1. Files on a filesystem (for processing with Pandas or Spark)\n",
      "    2. Relational database (SQL)\n",
      ": Error: 'P2M3_ranie_sita_data_clean.csv' is not one of '1', '2'.\n",
      "\n",
      "What data would you like Great Expectations to connect to?\n",
      "    1. Files on a filesystem (for processing with Pandas or Spark)\n",
      "    2. Relational database (SQL)\n",
      ": \n",
      "What data would you like Great Expectations to connect to?\n",
      "    1. Files on a filesystem (for processing with Pandas or Spark)\n",
      "    2. Relational database (SQL)\n",
      ": \n",
      "What data would you like Great Expectations to connect to?\n",
      "    1. Files on a filesystem (for processing with Pandas or Spark)\n",
      "    2. Relational database (SQL)\n",
      ": \n",
      "What data would you like Great Expectations to connect to?\n",
      "    1. Files on a filesystem (for processing with Pandas or Spark)\n",
      "    2. Relational database (SQL)\n",
      ": \n",
      "\n",
      "\n"
     ]
    }
   ],
   "source": [
    "import subprocess\n",
    "\n",
    "# Menambahkan datasource secara interaktif\n",
    "process = subprocess.Popen(['great_expectations', 'datasource', 'new'], stdin=subprocess.PIPE, stdout=subprocess.PIPE, stderr=subprocess.PIPE, text=True)\n",
    "\n",
    "# Kirimkan input untuk menambahkan datasource\n",
    "stdout, stderr = process.communicate(input='2\\n1\\nPandas\\n\\n\\nP2M3_ranie_sita_data_clean.csv\\n\\n\\n\\n')\n",
    "\n",
    "# Tampilkan output dan error\n",
    "print(stdout)\n",
    "print(stderr)\n"
   ]
  },
  {
   "cell_type": "code",
   "execution_count": 6,
   "metadata": {},
   "outputs": [
    {
     "name": "stdout",
     "output_type": "stream",
     "text": [
      "Usage: great_expectations suite new [OPTIONS]\n",
      "Try 'great_expectations suite new --help' for help.\n",
      "\n",
      "Error: Got unexpected extra argument (P2M3_ranie_sita_data_clean_suite)\n",
      "\u001b[0m"
     ]
    }
   ],
   "source": [
    "!great_expectations suite new P2M3_ranie_sita_data_clean_suite"
   ]
  },
  {
   "cell_type": "markdown",
   "metadata": {},
   "source": [
    "### 4.  Buat Datasource dan Batch Reequest"
   ]
  },
  {
   "cell_type": "code",
   "execution_count": 30,
   "metadata": {},
   "outputs": [
    {
     "name": "stdout",
     "output_type": "stream",
     "text": [
      "Attempting to instantiate class from config...\n",
      "\tInstantiating as a Datasource, since class_name is Datasource\n",
      "\tSuccessfully instantiated Datasource\n",
      "\n",
      "\n",
      "ExecutionEngine class name: PandasExecutionEngine\n",
      "Data Connectors:\n",
      "\tdefault_runtime_data_connector_name:RuntimeDataConnector\n",
      "\n",
      "\tAvailable data_asset_names (0 of 0):\n",
      "\t\tNote : RuntimeDataConnector will not have data_asset_names until they are passed in through RuntimeBatchRequest\n",
      "\n",
      "\tUnmatched data_references (0 of 0): []\n",
      "\n"
     ]
    },
    {
     "data": {
      "application/vnd.jupyter.widget-view+json": {
       "model_id": "dc21528b087943f2983b7271c578eb61",
       "version_major": 2,
       "version_minor": 0
      },
      "text/plain": [
       "Calculating Metrics:   0%|          | 0/1 [00:00<?, ?it/s]"
      ]
     },
     "metadata": {},
     "output_type": "display_data"
    },
    {
     "name": "stdout",
     "output_type": "stream",
     "text": [
      "          transid          paycadid paycardbank      paycardname paycardsex  \\\n",
      "0  EIIW227B8L34VB   180062659848800      emoney   Bajragin Usada          M   \n",
      "1  LGXO740D2N47GZ  4885331907664776         dki     Gandi Widodo          F   \n",
      "2  DJWR385V2U57TO  4996225095064169         dki    Emong Wastuti          F   \n",
      "3  JTUZ800U7C86EH      639099174703       flazz     Surya Wacana          F   \n",
      "4  VMLO535V7F95NJ      570928206772       flazz  Embuh Mardhiyah          M   \n",
      "\n",
      "   paycardbirthdate corridorid                              corridorname  \\\n",
      "0              2008          5                     Matraman Baru - Ancol   \n",
      "1              1997         6C  Stasiun Tebet - Karet via Patra Kuningan   \n",
      "2              1992        R1A                        Pantai Maju - Kota   \n",
      "3              1978        11D       Pulo Gebang - Pulo Gadung 2 via PIK   \n",
      "4              1982         12                     Tanjung Priok - Pluit   \n",
      "\n",
      "   direction tapinstops  ... tapinstopslon  stopstartseq            tapintime  \\\n",
      "0        1.0     P00142  ...     106.84402             7  2023-04-03 05:21:44   \n",
      "1        0.0    B01963P  ...     106.83302            13  2023-04-03 05:42:44   \n",
      "2        0.0    B00499P  ...     106.81435            38  2023-04-03 05:59:06   \n",
      "3        0.0    B05587P  ...     106.93526            23  2023-04-03 05:44:51   \n",
      "4        0.0     P00239  ...     106.88900             5  2023-04-03 06:17:35   \n",
      "\n",
      "   tapoutstops        tapoutstopsname tapoutstopslat tapoutstopslon  \\\n",
      "0       P00253                Tegalan      -6.203101      106.85715   \n",
      "1      B03307P    Sampoerna Strategic      -6.217152      106.81892   \n",
      "2      B04962P  Simpang Kunir Kemukus      -6.133731      106.81475   \n",
      "3      B03090P      Raya Penggilingan      -6.183068      106.93194   \n",
      "4       P00098       Kali Besar Barat      -6.135355      106.81143   \n",
      "\n",
      "   stopendseq           tapouttime  payamount  \n",
      "0        12.0  2023-04-03 06:00:53     3500.0  \n",
      "1        21.0  2023-04-03 06:40:01     3500.0  \n",
      "2        39.0  2023-04-03 06:50:55     3500.0  \n",
      "3        29.0  2023-04-03 06:28:16     3500.0  \n",
      "4        15.0  2023-04-03 06:57:03     3500.0  \n",
      "\n",
      "[5 rows x 22 columns]\n"
     ]
    }
   ],
   "source": [
    "import great_expectations as ge \n",
    "from great_expectations.core.batch import BatchRequest, RuntimeBatchRequest\n",
    "import yaml\n",
    "\n",
    "# Buat data context dari konfigurasi default\n",
    "context = ge.data_context.DataContext()\n",
    "\n",
    "# Tentukan path ke file CSV\n",
    "csv_file_path = \"P2M3_ranie_sita_data_clean.csv\"\n",
    "\n",
    "# Tambahkan datasource\n",
    "datasource_config = {\n",
    "    \"name\":\"my_csv_datasource\",\n",
    "    \"class_name\":\"Datasource\",\n",
    "    \"execution_engine\":{\n",
    "        \"class_name\":\"PandasExecutionEngine\"\n",
    "    },\n",
    "    \"data_connectors\": {\n",
    "        \"default_runtime_data_connector_name\": {\n",
    "            \"class_name\":\"RuntimeDataConnector\",\n",
    "            \"batch_identifiers\":[\"default_identifier_name\"]\n",
    "        }\n",
    "    }\n",
    "}\n",
    "\n",
    "context.test_yaml_config(yaml.dump(datasource_config)) # Menguji konfigurasi\n",
    "context.add_datasource(**datasource_config) # Menambahkan datasource\n",
    "\n",
    "# Buat batch request\n",
    "batch_request = RuntimeBatchRequest(\n",
    "    datasource_name=\"my_csv_datasource\",\n",
    "    data_connector_name=\"default_runtime_data_connector_name\",\n",
    "    data_asset_name=\"default_name\",\n",
    "    runtime_parameters={\"path\": csv_file_path},\n",
    "    batch_identifiers={\"default_identifier_name\":\"default_identifier\"}\n",
    ")\n",
    "\n",
    "# Buat expectation suite\n",
    "suite_name= \"P2M3_ranie_sita_data_clean_suite\"\n",
    "context.add_or_update_expectation_suite(expectation_suite_name=suite_name)\n",
    "\n",
    "# Mendapatkan validator\n",
    "validator = context.get_validator(\n",
    "    batch_request=batch_request,\n",
    "    expectation_suite_name=suite_name\n",
    ")\n",
    "print(validator.head())\n"
   ]
  },
  {
   "cell_type": "markdown",
   "metadata": {},
   "source": [
    "### 5.  Expectation dan Lakukan Validasi"
   ]
  },
  {
   "cell_type": "code",
   "execution_count": 31,
   "metadata": {},
   "outputs": [
    {
     "data": {
      "application/vnd.jupyter.widget-view+json": {
       "model_id": "5200e6b6c48d4645b44b6c5db2211111",
       "version_major": 2,
       "version_minor": 0
      },
      "text/plain": [
       "Calculating Metrics:   0%|          | 0/8 [00:00<?, ?it/s]"
      ]
     },
     "metadata": {},
     "output_type": "display_data"
    },
    {
     "data": {
      "text/plain": [
       "{\n",
       "  \"result\": {\n",
       "    \"element_count\": 37900,\n",
       "    \"unexpected_count\": 0,\n",
       "    \"unexpected_percent\": 0.0,\n",
       "    \"partial_unexpected_list\": [],\n",
       "    \"missing_count\": 0,\n",
       "    \"missing_percent\": 0.0,\n",
       "    \"unexpected_percent_total\": 0.0,\n",
       "    \"unexpected_percent_nonmissing\": 0.0\n",
       "  },\n",
       "  \"exception_info\": {\n",
       "    \"raised_exception\": false,\n",
       "    \"exception_traceback\": null,\n",
       "    \"exception_message\": null\n",
       "  },\n",
       "  \"meta\": {},\n",
       "  \"success\": true\n",
       "}"
      ]
     },
     "execution_count": 31,
     "metadata": {},
     "output_type": "execute_result"
    }
   ],
   "source": [
    "# 1.Unique Expectation\n",
    "validator.expect_column_values_to_be_unique(column='transid')"
   ]
  },
  {
   "cell_type": "code",
   "execution_count": 32,
   "metadata": {},
   "outputs": [
    {
     "data": {
      "application/vnd.jupyter.widget-view+json": {
       "model_id": "9b8680a1c9864eb98b8420c27a45373f",
       "version_major": 2,
       "version_minor": 0
      },
      "text/plain": [
       "Calculating Metrics:   0%|          | 0/8 [00:00<?, ?it/s]"
      ]
     },
     "metadata": {},
     "output_type": "display_data"
    },
    {
     "data": {
      "text/plain": [
       "{\n",
       "  \"result\": {\n",
       "    \"element_count\": 37900,\n",
       "    \"unexpected_count\": 0,\n",
       "    \"unexpected_percent\": 0.0,\n",
       "    \"partial_unexpected_list\": [],\n",
       "    \"missing_count\": 0,\n",
       "    \"missing_percent\": 0.0,\n",
       "    \"unexpected_percent_total\": 0.0,\n",
       "    \"unexpected_percent_nonmissing\": 0.0\n",
       "  },\n",
       "  \"exception_info\": {\n",
       "    \"raised_exception\": false,\n",
       "    \"exception_traceback\": null,\n",
       "    \"exception_message\": null\n",
       "  },\n",
       "  \"meta\": {},\n",
       "  \"success\": true\n",
       "}"
      ]
     },
     "execution_count": 32,
     "metadata": {},
     "output_type": "execute_result"
    }
   ],
   "source": [
    "# 2. Value Range Expectation\n",
    "validator.expect_column_values_to_be_between(column='payamount', min_value=0, max_value=100000)"
   ]
  },
  {
   "cell_type": "code",
   "execution_count": 39,
   "metadata": {},
   "outputs": [
    {
     "data": {
      "application/vnd.jupyter.widget-view+json": {
       "model_id": "568fefac819f4eaeb6982fa0cf900316",
       "version_major": 2,
       "version_minor": 0
      },
      "text/plain": [
       "Calculating Metrics:   0%|          | 0/4 [00:00<?, ?it/s]"
      ]
     },
     "metadata": {},
     "output_type": "display_data"
    },
    {
     "data": {
      "text/plain": [
       "{\n",
       "  \"result\": {\n",
       "    \"observed_value\": [\n",
       "      \"bni\",\n",
       "      \"brizzi\",\n",
       "      \"dki\",\n",
       "      \"emoney\",\n",
       "      \"flazz\",\n",
       "      \"online\"\n",
       "    ],\n",
       "    \"details\": {\n",
       "      \"value_counts\": [\n",
       "        {\n",
       "          \"value\": \"bni\",\n",
       "          \"count\": 2657\n",
       "        },\n",
       "        {\n",
       "          \"value\": \"brizzi\",\n",
       "          \"count\": 3531\n",
       "        },\n",
       "        {\n",
       "          \"value\": \"dki\",\n",
       "          \"count\": 18743\n",
       "        },\n",
       "        {\n",
       "          \"value\": \"emoney\",\n",
       "          \"count\": 6866\n",
       "        },\n",
       "        {\n",
       "          \"value\": \"flazz\",\n",
       "          \"count\": 3234\n",
       "        },\n",
       "        {\n",
       "          \"value\": \"online\",\n",
       "          \"count\": 2869\n",
       "        }\n",
       "      ]\n",
       "    }\n",
       "  },\n",
       "  \"exception_info\": {\n",
       "    \"raised_exception\": false,\n",
       "    \"exception_traceback\": null,\n",
       "    \"exception_message\": null\n",
       "  },\n",
       "  \"meta\": {},\n",
       "  \"success\": false\n",
       "}"
      ]
     },
     "execution_count": 39,
     "metadata": {},
     "output_type": "execute_result"
    }
   ],
   "source": [
    "# 3. Distinct Value Count to be Between in Set Expectation\n",
    "validator.expect_column_distinct_values_to_be_in_set(column='paycardbank', value_set=['emoney', 'dki', 'flazz'])"
   ]
  },
  {
   "cell_type": "code",
   "execution_count": 34,
   "metadata": {},
   "outputs": [
    {
     "data": {
      "application/vnd.jupyter.widget-view+json": {
       "model_id": "a274be07c89b445fa6b05f3516c6afe9",
       "version_major": 2,
       "version_minor": 0
      },
      "text/plain": [
       "Calculating Metrics:   0%|          | 0/1 [00:00<?, ?it/s]"
      ]
     },
     "metadata": {},
     "output_type": "display_data"
    },
    {
     "data": {
      "text/plain": [
       "{\n",
       "  \"result\": {\n",
       "    \"observed_value\": \"float64\"\n",
       "  },\n",
       "  \"exception_info\": {\n",
       "    \"raised_exception\": false,\n",
       "    \"exception_traceback\": null,\n",
       "    \"exception_message\": null\n",
       "  },\n",
       "  \"meta\": {},\n",
       "  \"success\": true\n",
       "}"
      ]
     },
     "execution_count": 34,
     "metadata": {},
     "output_type": "execute_result"
    }
   ],
   "source": [
    "# 4. Data Type Expectation\n",
    "validator.expect_column_values_to_be_of_type(column='payamount', type_='float')"
   ]
  },
  {
   "cell_type": "code",
   "execution_count": 35,
   "metadata": {},
   "outputs": [
    {
     "data": {
      "application/vnd.jupyter.widget-view+json": {
       "model_id": "ad1635a1ff734b289f6c35ef16587863",
       "version_major": 2,
       "version_minor": 0
      },
      "text/plain": [
       "Calculating Metrics:   0%|          | 0/9 [00:00<?, ?it/s]"
      ]
     },
     "metadata": {},
     "output_type": "display_data"
    },
    {
     "data": {
      "text/plain": [
       "{\n",
       "  \"result\": {\n",
       "    \"element_count\": 37900,\n",
       "    \"unexpected_count\": 0,\n",
       "    \"unexpected_percent\": 0.0,\n",
       "    \"partial_unexpected_list\": [],\n",
       "    \"missing_count\": 0,\n",
       "    \"missing_percent\": 0.0,\n",
       "    \"unexpected_percent_total\": 0.0,\n",
       "    \"unexpected_percent_nonmissing\": 0.0\n",
       "  },\n",
       "  \"exception_info\": {\n",
       "    \"raised_exception\": false,\n",
       "    \"exception_traceback\": null,\n",
       "    \"exception_message\": null\n",
       "  },\n",
       "  \"meta\": {},\n",
       "  \"success\": true\n",
       "}"
      ]
     },
     "execution_count": 35,
     "metadata": {},
     "output_type": "execute_result"
    }
   ],
   "source": [
    "# 5. Column Value Length Expectation\n",
    "validator.expect_column_value_lengths_to_be_between(column='transid', min_value=5, max_value=15)"
   ]
  },
  {
   "cell_type": "code",
   "execution_count": 36,
   "metadata": {},
   "outputs": [
    {
     "data": {
      "application/vnd.jupyter.widget-view+json": {
       "model_id": "7bfad0af40674b8284200ebef8d902de",
       "version_major": 2,
       "version_minor": 0
      },
      "text/plain": [
       "Calculating Metrics:   0%|          | 0/8 [00:00<?, ?it/s]"
      ]
     },
     "metadata": {},
     "output_type": "display_data"
    },
    {
     "data": {
      "text/plain": [
       "{\n",
       "  \"result\": {\n",
       "    \"element_count\": 37900,\n",
       "    \"unexpected_count\": 0,\n",
       "    \"unexpected_percent\": 0.0,\n",
       "    \"partial_unexpected_list\": [],\n",
       "    \"missing_count\": 0,\n",
       "    \"missing_percent\": 0.0,\n",
       "    \"unexpected_percent_total\": 0.0,\n",
       "    \"unexpected_percent_nonmissing\": 0.0\n",
       "  },\n",
       "  \"exception_info\": {\n",
       "    \"raised_exception\": false,\n",
       "    \"exception_traceback\": null,\n",
       "    \"exception_message\": null\n",
       "  },\n",
       "  \"meta\": {},\n",
       "  \"success\": true\n",
       "}"
      ]
     },
     "execution_count": 36,
     "metadata": {},
     "output_type": "execute_result"
    }
   ],
   "source": [
    "# 6. Column Value Not Match Regex Expectation\n",
    "validator.expect_column_values_to_not_match_regex(column='paycardname', regex='^[0-9]*$')"
   ]
  },
  {
   "cell_type": "code",
   "execution_count": 37,
   "metadata": {},
   "outputs": [
    {
     "data": {
      "application/vnd.jupyter.widget-view+json": {
       "model_id": "ad5f2a73284943a58a8d3ca73c69ee4f",
       "version_major": 2,
       "version_minor": 0
      },
      "text/plain": [
       "Calculating Metrics:   0%|          | 0/4 [00:00<?, ?it/s]"
      ]
     },
     "metadata": {},
     "output_type": "display_data"
    },
    {
     "data": {
      "text/plain": [
       "{\n",
       "  \"result\": {\n",
       "    \"observed_value\": 3500.0\n",
       "  },\n",
       "  \"exception_info\": {\n",
       "    \"raised_exception\": false,\n",
       "    \"exception_traceback\": null,\n",
       "    \"exception_message\": null\n",
       "  },\n",
       "  \"meta\": {},\n",
       "  \"success\": true\n",
       "}"
      ]
     },
     "execution_count": 37,
     "metadata": {},
     "output_type": "execute_result"
    }
   ],
   "source": [
    "# 7. Column Median Expectation\n",
    "validator.expect_column_median_to_be_between(column='payamount', min_value=1000, max_value=5000)"
   ]
  },
  {
   "cell_type": "markdown",
   "metadata": {},
   "source": [
    "### 6.  Simpan Hasil Validasi"
   ]
  },
  {
   "cell_type": "code",
   "execution_count": 44,
   "metadata": {},
   "outputs": [],
   "source": [
    "# Simpan expectation suite\n",
    "validator.save_expectation_suite(discard_failed_expectations=False)\n",
    "\n",
    "# Generate data docs \n",
    "context.build_data_docs()\n",
    "\n",
    "# Tampilkan data docs\n",
    "context.open_data_docs()"
   ]
  }
 ],
 "metadata": {
  "kernelspec": {
   "display_name": "base",
   "language": "python",
   "name": "python3"
  },
  "language_info": {
   "codemirror_mode": {
    "name": "ipython",
    "version": 3
   },
   "file_extension": ".py",
   "mimetype": "text/x-python",
   "name": "python",
   "nbconvert_exporter": "python",
   "pygments_lexer": "ipython3",
   "version": "3.9.18"
  }
 },
 "nbformat": 4,
 "nbformat_minor": 2
}
